{
 "cells": [
  {
   "cell_type": "markdown",
   "metadata": {
    "collapsed": true
   },
   "source": [
    "# 猫狗大战 训练模型\n",
    "\n",
    "在此项目中，将对 [kaggle dogs vs. cats 数据集](https://www.kaggle.com/c/5441/download-all) 中的图片进行分类。该数据集主要包含猫狗和若干异常图片。项目需要预处理这些图片，然后基于预训练模型导出特征向量，构建一个新的模型的，用特征向量为输入进行训练。最后，由新模型对测试集的图片作出是猫还是狗的预测。\n"
   ]
  },
  {
   "cell_type": "markdown",
   "metadata": {},
   "source": [
    "## 导出特征向量\n",
    "\n",
    "从keras的预训练模型Xception中，导出特征向量。\n"
   ]
  },
  {
   "cell_type": "code",
   "execution_count": 4,
   "metadata": {},
   "outputs": [
    {
     "name": "stdout",
     "output_type": "stream",
     "text": [
      "Found 24953 images belonging to 2 classes.\n",
      "Found 12500 images belonging to 1 classes.\n",
      "export features finished.\n"
     ]
    }
   ],
   "source": [
    "from keras.models import *\n",
    "from keras.layers import *\n",
    "from keras.applications import *\n",
    "from keras.preprocessing.image import *\n",
    "import os\n",
    "\n",
    "import h5py\n",
    "\n",
    "\n",
    "dataset_folder_path = os.getcwd() + '/data'\n",
    "train_dataset_folder_path = dataset_folder_path + '/train'\n",
    "test_dataset_folder_path = dataset_folder_path + '/test'\n",
    "\n",
    "\n",
    "image_size = (299, 299)\n",
    "input_tensor = Input((image_size[0], image_size[1], 3))\n",
    "x = input_tensor\n",
    "x = Lambda(xception.preprocess_input)(x)\n",
    "    \n",
    "base_model = Xception(include_top=False, weights='imagenet', input_tensor=x)\n",
    "model = Xception(input_tensor=base_model.input, pooling=GlobalAveragePooling2D()(base_model.output))\n",
    "\n",
    "gen = ImageDataGenerator()\n",
    "train_generator = gen.flow_from_directory(train_dataset_folder_path, image_size, shuffle=False, \n",
    "                                          batch_size=16)\n",
    "test_generator = gen.flow_from_directory(test_dataset_folder_path, image_size, shuffle=False, \n",
    "                                         batch_size=16, class_mode=None)\n",
    "\n",
    "X_train = model.predict_generator(train_generator)\n",
    "X_test = model.predict_generator(test_generator)\n",
    "\n",
    "with h5py.File('Xception.h5') as fp:\n",
    "        fp.create_dataset('train', data = X_train)\n",
    "        fp.create_dataset('test', data = X_test)\n",
    "        fp.create_dataset('label', data = train_generator.classes)\n",
    "\n",
    "print(\"export features finished.\")"
   ]
  },
  {
   "cell_type": "markdown",
   "metadata": {},
   "source": [
    "### 导入特征向量\n",
    "\n",
    "运行上面的代码后，将生成1个特征向量文件：\n",
    "\n",
    " * Xception.h5\n",
    "\n",
    "载入这些特征向量，然后对 X 和 y 重新随机排序，随机种子固定为42，为了可以复现结果。\n"
   ]
  },
  {
   "cell_type": "code",
   "execution_count": 5,
   "metadata": {},
   "outputs": [],
   "source": [
    "import h5py\n",
    "import numpy as np\n",
    "from sklearn.utils import shuffle\n",
    "\n",
    "X_train = []\n",
    "X_test = []\n",
    "\n",
    "with h5py.File(\"Xception.h5\", 'r') as h:\n",
    "    X_train.append(np.array(h['train']))\n",
    "    X_test.append(np.array(h['test']))\n",
    "    y_train = np.array(h['label'])\n",
    "\n",
    "X_train = np.concatenate(X_train, axis=1)\n",
    "X_test = np.concatenate(X_test, axis=1)\n",
    "\n",
    "X_train, y_train = shuffle(X_train, y_train, random_state=42)\n"
   ]
  },
  {
   "cell_type": "markdown",
   "metadata": {},
   "source": [
    "## 构建并编译模型\n",
    "\n",
    "添加dropout层，然后分类。\n"
   ]
  },
  {
   "cell_type": "code",
   "execution_count": 22,
   "metadata": {},
   "outputs": [],
   "source": [
    "from keras.models import *\n",
    "from keras.layers import *\n",
    "\n",
    "input_tensor = Input(X_train.shape[1:])\n",
    "\n",
    "x = Dropout(0.2)(input_tensor)\n",
    "x = Dense(1, activation='sigmoid')(x)\n",
    "model = Model(input_tensor, x)\n",
    "\n",
    "myModel = Model(input_tensor, Dropout(0.3)(input_tensor))\n",
    "myModel = Model(myModel.input, Dense(1, activation = 'sigmoid')(myModel.output))\n",
    "\n",
    "myModel.compile(optimizer='adam',\n",
    "              loss='binary_crossentropy',\n",
    "              metrics=['accuracy'])"
   ]
  },
  {
   "cell_type": "markdown",
   "metadata": {},
   "source": [
    "# 训练模型\n",
    "\n",
    "设置验证集大小为 10% ，也就是说训练集是22458张图，验证集是2495张图。\n"
   ]
  },
  {
   "cell_type": "code",
   "execution_count": 23,
   "metadata": {},
   "outputs": [
    {
     "name": "stdout",
     "output_type": "stream",
     "text": [
      "Train on 19962 samples, validate on 4991 samples\n",
      "Epoch 1/8\n",
      "19962/19962 [==============================] - 3s 130us/step - loss: 0.6914 - acc: 0.5198 - val_loss: 0.6898 - val_acc: 0.5518\n",
      "Epoch 2/8\n",
      "19962/19962 [==============================] - 1s 31us/step - loss: 0.6882 - acc: 0.5437 - val_loss: 0.6871 - val_acc: 0.5560\n",
      "Epoch 3/8\n",
      "19962/19962 [==============================] - 1s 30us/step - loss: 0.6860 - acc: 0.5446 - val_loss: 0.6849 - val_acc: 0.5574\n",
      "Epoch 4/8\n",
      "19962/19962 [==============================] - 1s 31us/step - loss: 0.6847 - acc: 0.5432 - val_loss: 0.6833 - val_acc: 0.5600\n",
      "Epoch 5/8\n",
      "19962/19962 [==============================] - 1s 30us/step - loss: 0.6831 - acc: 0.5475 - val_loss: 0.6820 - val_acc: 0.5586\n",
      "Epoch 6/8\n",
      "19962/19962 [==============================] - 1s 30us/step - loss: 0.6812 - acc: 0.5479 - val_loss: 0.6807 - val_acc: 0.5608\n",
      "Epoch 7/8\n",
      "19962/19962 [==============================] - 1s 30us/step - loss: 0.6815 - acc: 0.5441 - val_loss: 0.6799 - val_acc: 0.5606\n",
      "Epoch 8/8\n",
      "19962/19962 [==============================] - 1s 30us/step - loss: 0.6804 - acc: 0.5499 - val_loss: 0.6792 - val_acc: 0.5582\n"
     ]
    }
   ],
   "source": [
    "train_history = myModel.fit(X_train, y_train, batch_size=128, epochs=8, validation_split=0.2)"
   ]
  },
  {
   "cell_type": "markdown",
   "metadata": {},
   "source": [
    "# 可视化学习曲线"
   ]
  },
  {
   "cell_type": "code",
   "execution_count": 21,
   "metadata": {},
   "outputs": [
    {
     "data": {
      "image/png": "[encoded data removed]",
      "text/plain": [
       "<Figure size 432x288 with 1 Axes>"
      ]
     },
     "metadata": {
      "needs_background": "light"
     },
     "output_type": "display_data"
    },
    {
     "data": {
      "image/png": "[encoded data removed]",
      "text/plain": [
       "<Figure size 432x288 with 1 Axes>"
      ]
     },
     "metadata": {
      "needs_background": "light"
     },
     "output_type": "display_data"
    }
   ],
   "source": [
    "import matplotlib.pyplot as plt\n",
    "\n",
    "plt.plot(train_history.history['val_loss'])\n",
    "plt.xlabel('time')\n",
    "plt.ylabel('val_loss')\n",
    "plt.show()\n",
    "\n",
    "plt.plot(train_history.history['val_acc'])\n",
    "plt.xlabel('times')\n",
    "plt.ylabel('val_acc')\n",
    "plt.show()"
   ]
  },
  {
   "cell_type": "markdown",
   "metadata": {},
   "source": [
    "## 对测试数据集进行预测\n",
    "\n",
    "预测并生成预测结果文件，用于上传kaggle。"
   ]
  },
  {
   "cell_type": "code",
   "execution_count": 24,
   "metadata": {},
   "outputs": [
    {
     "name": "stdout",
     "output_type": "stream",
     "text": [
      "12500/12500 [==============================] - 1s 99us/step\n"
     ]
    },
    {
     "name": "stderr",
     "output_type": "stream",
     "text": [
      "/home/ubuntu/anaconda3/envs/tensorflow_p36/lib/python3.6/site-packages/ipykernel_launcher.py:10: FutureWarning: set_value is deprecated and will be removed in a future release. Please use .at[] or .iat[] accessors instead\n",
      "  # Remove the CWD from sys.path while we load stuff.\n"
     ]
    },
    {
     "data": {
      "text/html": [
       "<div>\n",
       "<style scoped>\n",
       "    .dataframe tbody tr th:only-of-type {\n",
       "        vertical-align: middle;\n",
       "    }\n",
       "\n",
       "    .dataframe tbody tr th {\n",
       "        vertical-align: top;\n",
       "    }\n",
       "\n",
       "    .dataframe thead th {\n",
       "        text-align: right;\n",
       "    }\n",
       "</style>\n",
       "<table border=\"1\" class=\"dataframe\">\n",
       "  <thead>\n",
       "    <tr style=\"text-align: right;\">\n",
       "      <th></th>\n",
       "      <th>id</th>\n",
       "      <th>label</th>\n",
       "    </tr>\n",
       "  </thead>\n",
       "  <tbody>\n",
       "    <tr>\n",
       "      <th>0</th>\n",
       "      <td>1</td>\n",
       "      <td>0.476543</td>\n",
       "    </tr>\n",
       "    <tr>\n",
       "      <th>1</th>\n",
       "      <td>2</td>\n",
       "      <td>0.476543</td>\n",
       "    </tr>\n",
       "    <tr>\n",
       "      <th>2</th>\n",
       "      <td>3</td>\n",
       "      <td>0.476543</td>\n",
       "    </tr>\n",
       "    <tr>\n",
       "      <th>3</th>\n",
       "      <td>4</td>\n",
       "      <td>0.563068</td>\n",
       "    </tr>\n",
       "    <tr>\n",
       "      <th>4</th>\n",
       "      <td>5</td>\n",
       "      <td>0.476543</td>\n",
       "    </tr>\n",
       "    <tr>\n",
       "      <th>5</th>\n",
       "      <td>6</td>\n",
       "      <td>0.476543</td>\n",
       "    </tr>\n",
       "    <tr>\n",
       "      <th>6</th>\n",
       "      <td>7</td>\n",
       "      <td>0.476543</td>\n",
       "    </tr>\n",
       "    <tr>\n",
       "      <th>7</th>\n",
       "      <td>8</td>\n",
       "      <td>0.476621</td>\n",
       "    </tr>\n",
       "    <tr>\n",
       "      <th>8</th>\n",
       "      <td>9</td>\n",
       "      <td>0.490374</td>\n",
       "    </tr>\n",
       "    <tr>\n",
       "      <th>9</th>\n",
       "      <td>10</td>\n",
       "      <td>0.476543</td>\n",
       "    </tr>\n",
       "  </tbody>\n",
       "</table>\n",
       "</div>"
      ],
      "text/plain": [
       "   id     label\n",
       "0   1  0.476543\n",
       "1   2  0.476543\n",
       "2   3  0.476543\n",
       "3   4  0.563068\n",
       "4   5  0.476543\n",
       "5   6  0.476543\n",
       "6   7  0.476543\n",
       "7   8  0.476621\n",
       "8   9  0.490374\n",
       "9  10  0.476543"
      ]
     },
     "execution_count": 24,
     "metadata": {},
     "output_type": "execute_result"
    }
   ],
   "source": [
    "import pandas as pd\n",
    "\n",
    "y_pred = myModel.predict(X_test, verbose=1)\n",
    "y_pred = y_pred.clip(min=0.005, max=0.995)\n",
    "\n",
    "df = pd.read_csv(\"sample_submission.csv\")\n",
    "\n",
    "for i, fname in enumerate(test_generator.filenames):\n",
    "    index = int(fname[fname.rfind('/')+1:fname.rfind('.')])\n",
    "    df.set_value(index-1, 'label', y_pred[i])\n",
    "\n",
    "df.to_csv('pred.csv', index=None)\n",
    "df.head(10)"
   ]
  },
  {
   "cell_type": "markdown",
   "metadata": {},
   "source": []
  }
 ],
 "metadata": {
  "kernelspec": {
   "display_name": "Python 3",
   "language": "python",
   "name": "python3"
  },
  "language_info": {
   "codemirror_mode": {
    "name": "ipython",
    "version": 3
   },
   "file_extension": ".py",
   "mimetype": "text/x-python",
   "name": "python",
   "nbconvert_exporter": "python",
   "pygments_lexer": "ipython3",
   "version": "3.6.5"
  }
 },
 "nbformat": 4,
 "nbformat_minor": 1
}
