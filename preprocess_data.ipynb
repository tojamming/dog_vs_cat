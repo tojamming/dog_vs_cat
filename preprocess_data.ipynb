{
 "cells": [
  {
   "cell_type": "markdown",
   "metadata": {
    "collapsed": true
   },
   "source": [
    "# 猫狗大战 预处理数据\n",
    "\n",
    "在此项目中，将对 [kaggle dogs vs. cats 数据集](https://www.kaggle.com/c/5441/download-all) 中的图片进行分类。该数据集主要包含猫狗和若干异常图片。项目需要预处理这些图片，然后基于预训练模型导出特征向量，构建一个融合模型，用特征向量进行训练。最后，由融合模型对测试集的图片作出是猫还是狗的预测。"
   ]
  },
  {
   "cell_type": "markdown",
   "metadata": {},
   "source": [
    "## 获取数据\n",
    "\n",
    "请登录kaggle，手动下载数据集[kaggle dogs vs. cats 数据集](https://www.kaggle.com/c/5441/download-all) ，并解压到[./data]目录下；或者通过kaggle命令直接下载train.zip和test.zip到[./data]目录下。\n",
    "运行以下命令，\n",
    "1. 检查是否存在目录[./data/train]和[.data/test]，不存在的话创建目录，将训练数据集压缩包train.zip、测试数据集压缩包test.zip分别解压到对应目录；\n",
    "2. 将训练数据集解压后目录[./data/train]下的图片按照名称前缀cat或dog分别复制到[./data/train/cat]和[./data/train/dog]目录下。"
   ]
  },
  {
   "cell_type": "code",
   "execution_count": 1,
   "metadata": {},
   "outputs": [
    {
     "name": "stdout",
     "output_type": "stream",
     "text": [
      "totalDogImgCount: 12491\n",
      "totalCatImgCount: 12462\n",
      "Getting data is done.\n"
     ]
    }
   ],
   "source": [
    "\"\"\"\n",
    "DON'T MODIFY ANYTHING IN THIS CELL THAT IS BELOW THIS LINE\n",
    "\"\"\"\n",
    "from os.path import isfile, isdir\n",
    "import os\n",
    "import zipfile\n",
    "\n",
    "dataset_folder_path = os.getcwd() + '/data'\n",
    "train_dataset_folder_path = dataset_folder_path + '/train'\n",
    "test_dataset_folder_path = dataset_folder_path + '/test'\n",
    "\n",
    "if not isdir(train_dataset_folder_path):\n",
    "    with zipfile.ZipFile(dataset_folder_path + '/train.zip') as azip:\n",
    "        azip.extractall(dataset_folder_path)\n",
    "        azip.close()\n",
    "\n",
    "if not isdir(test_dataset_folder_path):\n",
    "    with zipfile.ZipFile(dataset_folder_path + '/test.zip') as bzip:\n",
    "        bzip.extractall(test_dataset_folder_path)\n",
    "        bzip.close()\n",
    "\n",
    "destPathDog = train_dataset_folder_path + '/dog'\n",
    "if not isdir(destPathDog):\n",
    "    os.mkdir(destPathDog)\n",
    "\n",
    "destPathCat = train_dataset_folder_path + '/cat'\n",
    "if not isdir(destPathCat):\n",
    "    os.mkdir(destPathCat)\n",
    "\n",
    "for root, dirs, files in os.walk(train_dataset_folder_path):\n",
    "    for fileName in files:\n",
    "        filePathName = train_dataset_folder_path + '/' + fileName\n",
    "        if not isfile(filePathName):\n",
    "            continue\n",
    "        if ('dog' == fileName.split('.')[0]):\n",
    "            os.rename(filePathName, destPathDog + '/' + fileName)\n",
    "        elif('cat' == fileName.split('.')[0]):\n",
    "            os.rename(filePathName, destPathCat + '/' + fileName)\n",
    "\n",
    "totalDogImgCount = len(os.listdir(destPathDog))\n",
    "totalCatImgCount = len(os.listdir(destPathCat))\n",
    "print('totalDogImgCount:', totalDogImgCount)\n",
    "print('totalCatImgCount:', totalCatImgCount)\n",
    "            \n",
    "print('Getting data is done.')\n",
    "#tests.test_folder_path(cifar10_dataset_folder_path)"
   ]
  },
  {
   "cell_type": "markdown",
   "metadata": {},
   "source": [
    "## 异常数据检测\n",
    "本项目的数据集概况如下：\n",
    "<br>./data\n",
    "<br>&nbsp;&nbsp;./data/train/dog....12500张图片\n",
    "<br>&nbsp;&nbsp;./data/train/cat....12500张图片\n",
    "<br>&nbsp;&nbsp;./data/test....12500张图片\n",
    "\n",
    "使用imagenet的预训练模型，对训练数据集的图片进行预测（会给出图片分别属于不同种类的概率），筛选出top5概率都不是狗/猫种类的图片，然后人工判断是否合理，最后选择其中的真正异常图片进行剔除。\n",
    "1. 从[此处](https://blog.csdn.net/zhangjunbob/article/details/53258524)获取imagenet所有的种类编码及对应的种类名称，保存到文件[./imageNetClasses.txt]。\n",
    "2. 从中分别选出狗、猫的所有种类。\n",
    "3. 对[./all/train/dog]目录下的图片进行预测，筛选出top5概率都不是狗的图片，打印其文件名称。\n",
    "4. 对[./all/train/cat]目录下的图片进行预测，筛选出top5概率都不是猫的图片，打印其文件名称。"
   ]
  },
  {
   "cell_type": "markdown",
   "metadata": {},
   "source": [
    "### 加载所有狗的种类、所有猫的种类"
   ]
  },
  {
   "cell_type": "code",
   "execution_count": 2,
   "metadata": {},
   "outputs": [],
   "source": [
    "#选出所有狗的种类\n",
    "dogSet = set((\n",
    " 'n02085620','n02085782','n02085936','n02086079'\n",
    ",'n02086240','n02086646','n02086910','n02087046'\n",
    ",'n02087394','n02088094','n02088238','n02088364'\n",
    ",'n02088466','n02088632','n02089078','n02089867'\n",
    ",'n02089973','n02090379','n02090622','n02090721'\n",
    ",'n02091032','n02091134','n02091244','n02091467'\n",
    ",'n02091635','n02091831','n02092002','n02092339'\n",
    ",'n02093256','n02093428','n02093647','n02093754'\n",
    ",'n02093859','n02093991','n02094114','n02094258'\n",
    ",'n02094433','n02095314','n02095570','n02095889'\n",
    ",'n02096051','n02096177','n02096294','n02096437'\n",
    ",'n02096585','n02097047','n02097130','n02097209'\n",
    ",'n02097298','n02097474','n02097658','n02098105'\n",
    ",'n02098286','n02098413','n02099267','n02099429'\n",
    ",'n02099601','n02099712','n02099849','n02100236'\n",
    ",'n02100583','n02100735','n02100877','n02101006'\n",
    ",'n02101388','n02101556','n02102040','n02102177'\n",
    ",'n02102318','n02102480','n02102973','n02104029'\n",
    ",'n02104365','n02105056','n02105162','n02105251'\n",
    ",'n02105412','n02105505','n02105641','n02105855'\n",
    ",'n02106030','n02106166','n02106382','n02106550'\n",
    ",'n02106662','n02107142','n02107312','n02107574'\n",
    ",'n02107683','n02107908','n02108000','n02108089'\n",
    ",'n02108422','n02108551','n02108915','n02109047'\n",
    ",'n02109525','n02109961','n02110063','n02110185'\n",
    ",'n02110341','n02110627','n02110806','n02110958'\n",
    ",'n02111129','n02111277','n02111500','n02111889'\n",
    ",'n02112018','n02112137','n02112350','n02112706'\n",
    ",'n02113023','n02113186','n02113624','n02113712'\n",
    ",'n02113799','n02113978'))\n",
    "\n",
    "#选出所有猫的种类\n",
    "catSet = set((\n",
    "'n02123045','n02123159','n02123394','n02123597'\n",
    ",'n02124075','n02125311','n02127052'))\n",
    "\n",
    "imageNetClassDict = {}\n",
    "with open('./imageNetClasses.txt', 'r') as f:\n",
    "    classList = f.readlines()\n",
    "for i in range(0, len(classList)):\n",
    "    classList[i] = classList[i].strip('\\n')\n",
    "    pair = classList[i].split(' ', 1)\n",
    "    imageNetClassDict[pair[0]] = pair[1]"
   ]
  },
  {
   "cell_type": "markdown",
   "metadata": {},
   "source": [
    "### 使用预训练模型初步筛选出异常图片\n",
    "\n",
    "分别从dog目录、cat目录扫描出种类不属于狗、猫的图片，打印出图片名称"
   ]
  },
  {
   "cell_type": "code",
   "execution_count": 4,
   "metadata": {},
   "outputs": [
    {
     "name": "stderr",
     "output_type": "stream",
     "text": [
      "Using TensorFlow backend.\n"
     ]
    },
    {
     "name": "stdout",
     "output_type": "stream",
     "text": [
      "Downloading data from https://github.com/fchollet/deep-learning-models/releases/download/v0.2/resnet50_weights_tf_dim_ordering_tf_kernels.h5\n",
      "102858752/102853048 [==============================] - 1s 0us/step\n",
      "Downloading data from https://s3.amazonaws.com/deep-learning-models/image-models/imagenet_class_index.json\n",
      "40960/35363 [==================================] - 0s 1us/step\n",
      "/home/ubuntu/code/dog_vs_cat/data/train/dog/dog.5604.jpg\n",
      "/home/ubuntu/code/dog_vs_cat/data/train/dog/dog.8736.jpg\n",
      "/home/ubuntu/code/dog_vs_cat/data/train/dog/dog.2422.jpg\n",
      "/home/ubuntu/code/dog_vs_cat/data/train/dog/dog.12376.jpg\n",
      "/home/ubuntu/code/dog_vs_cat/data/train/dog/dog.9517.jpg\n",
      "/home/ubuntu/code/dog_vs_cat/data/train/dog/dog.10237.jpg\n",
      "/home/ubuntu/code/dog_vs_cat/data/train/dog/dog.10801.jpg\n",
      "/home/ubuntu/code/dog_vs_cat/data/train/dog/dog.2614.jpg\n",
      "/home/ubuntu/code/dog_vs_cat/data/train/dog/dog.10161.jpg\n",
      "/home/ubuntu/code/dog_vs_cat/data/train/dog/dog.1625.jpg\n",
      "/home/ubuntu/code/dog_vs_cat/data/train/dog/dog.1773.jpg\n",
      "scanInvalidImage fileCount: 12500\n",
      "/home/ubuntu/code/dog_vs_cat/data/train/cat/cat.2893.jpg\n",
      "/home/ubuntu/code/dog_vs_cat/data/train/cat/cat.6345.jpg\n",
      "/home/ubuntu/code/dog_vs_cat/data/train/cat/cat.9596.jpg\n",
      "/home/ubuntu/code/dog_vs_cat/data/train/cat/cat.2520.jpg\n",
      "/home/ubuntu/code/dog_vs_cat/data/train/cat/cat.8087.jpg\n",
      "/home/ubuntu/code/dog_vs_cat/data/train/cat/cat.12326.jpg\n",
      "/home/ubuntu/code/dog_vs_cat/data/train/cat/cat.6442.jpg\n",
      "/home/ubuntu/code/dog_vs_cat/data/train/cat/cat.8921.jpg\n",
      "/home/ubuntu/code/dog_vs_cat/data/train/cat/cat.10536.jpg\n",
      "/home/ubuntu/code/dog_vs_cat/data/train/cat/cat.10700.jpg\n",
      "/home/ubuntu/code/dog_vs_cat/data/train/cat/cat.11879.jpg\n",
      "/home/ubuntu/code/dog_vs_cat/data/train/cat/cat.7377.jpg\n",
      "/home/ubuntu/code/dog_vs_cat/data/train/cat/cat.5974.jpg\n",
      "/home/ubuntu/code/dog_vs_cat/data/train/cat/cat.4338.jpg\n",
      "/home/ubuntu/code/dog_vs_cat/data/train/cat/cat.4986.jpg\n",
      "/home/ubuntu/code/dog_vs_cat/data/train/cat/cat.2663.jpg\n",
      "/home/ubuntu/code/dog_vs_cat/data/train/cat/cat.11565.jpg\n",
      "/home/ubuntu/code/dog_vs_cat/data/train/cat/cat.2939.jpg\n",
      "/home/ubuntu/code/dog_vs_cat/data/train/cat/cat.5351.jpg\n",
      "/home/ubuntu/code/dog_vs_cat/data/train/cat/cat.10712.jpg\n",
      "/home/ubuntu/code/dog_vs_cat/data/train/cat/cat.5418.jpg\n",
      "/home/ubuntu/code/dog_vs_cat/data/train/cat/cat.7968.jpg\n",
      "/home/ubuntu/code/dog_vs_cat/data/train/cat/cat.372.jpg\n",
      "/home/ubuntu/code/dog_vs_cat/data/train/cat/cat.10270.jpg\n",
      "/home/ubuntu/code/dog_vs_cat/data/train/cat/cat.7009.jpg\n",
      "/home/ubuntu/code/dog_vs_cat/data/train/cat/cat.3672.jpg\n",
      "/home/ubuntu/code/dog_vs_cat/data/train/cat/cat.2457.jpg\n",
      "/home/ubuntu/code/dog_vs_cat/data/train/cat/cat.252.jpg\n",
      "/home/ubuntu/code/dog_vs_cat/data/train/cat/cat.8542.jpg\n",
      "/home/ubuntu/code/dog_vs_cat/data/train/cat/cat.11184.jpg\n",
      "/home/ubuntu/code/dog_vs_cat/data/train/cat/cat.12272.jpg\n",
      "/home/ubuntu/code/dog_vs_cat/data/train/cat/cat.9552.jpg\n",
      "/home/ubuntu/code/dog_vs_cat/data/train/cat/cat.5820.jpg\n",
      "/home/ubuntu/code/dog_vs_cat/data/train/cat/cat.7564.jpg\n",
      "/home/ubuntu/code/dog_vs_cat/data/train/cat/cat.9290.jpg\n",
      "/home/ubuntu/code/dog_vs_cat/data/train/cat/cat.9622.jpg\n",
      "/home/ubuntu/code/dog_vs_cat/data/train/cat/cat.10636.jpg\n",
      "/home/ubuntu/code/dog_vs_cat/data/train/cat/cat.6699.jpg\n",
      "/home/ubuntu/code/dog_vs_cat/data/train/cat/cat.8456.jpg\n",
      "/home/ubuntu/code/dog_vs_cat/data/train/cat/cat.9090.jpg\n",
      "/home/ubuntu/code/dog_vs_cat/data/train/cat/cat.2337.jpg\n",
      "/home/ubuntu/code/dog_vs_cat/data/train/cat/cat.2817.jpg\n",
      "/home/ubuntu/code/dog_vs_cat/data/train/cat/cat.3123.jpg\n",
      "/home/ubuntu/code/dog_vs_cat/data/train/cat/cat.4852.jpg\n",
      "/home/ubuntu/code/dog_vs_cat/data/train/cat/cat.9171.jpg\n",
      "/home/ubuntu/code/dog_vs_cat/data/train/cat/cat.3637.jpg\n",
      "/home/ubuntu/code/dog_vs_cat/data/train/cat/cat.11297.jpg\n",
      "/home/ubuntu/code/dog_vs_cat/data/train/cat/cat.4308.jpg\n",
      "/home/ubuntu/code/dog_vs_cat/data/train/cat/cat.2150.jpg\n",
      "/home/ubuntu/code/dog_vs_cat/data/train/cat/cat.12493.jpg\n",
      "scanInvalidImage fileCount: 12500\n"
     ]
    }
   ],
   "source": [
    "from keras.applications.resnet50 import ResNet50\n",
    "from keras.preprocessing import image\n",
    "from keras.applications.resnet50 import preprocess_input, decode_predictions\n",
    "import numpy as np\n",
    "\n",
    "model = ResNet50(weights='imagenet')\n",
    "\n",
    "def scanInvalidImage(imageDirPath, imageCount, targetClassSet):\n",
    "    fileCount = 0\n",
    "    for item in os.listdir(imageDirPath):\n",
    "        img_path = imageDirPath + '/' + item\n",
    "        if (not isfile(img_path)) or fileCount >= imageCount:\n",
    "            break\n",
    "        fileCount += 1\n",
    "        img = image.load_img(img_path, target_size=(224, 224))\n",
    "        img_arr = image.img_to_array(img)\n",
    "        img_arr = np.expand_dims(img_arr, axis=0)\n",
    "        img_arr = preprocess_input(img_arr)\n",
    "        \n",
    "        preds = model.predict_on_batch(img_arr)\n",
    "        decodePreds = decode_predictions(preds, top=100)[0]\n",
    "        \n",
    "        findInTargetClass = False\n",
    "        for predTuple in decodePreds:\n",
    "            if predTuple[0] in targetClassSet:\n",
    "                findInTargetClass = True\n",
    "                break\n",
    "        \n",
    "        if not findInTargetClass:\n",
    "            print(img_path)\n",
    "            \n",
    "    print('scanInvalidImage fileCount:', fileCount)\n",
    "\n",
    "#\n",
    "scanInvalidImage(destPathDog, totalDogImgCount, dogSet)\n",
    "scanInvalidImage(destPathCat, totalCatImgCount, catSet)"
   ]
  },
  {
   "cell_type": "markdown",
   "metadata": {},
   "source": [
    "### 对异常图片进行人工再次筛选，并剔除\n",
    "\n",
    "对上面top100都不是猫狗的图片进行最终人工筛选，挑选出不是猫狗，或者有猫狗但是背景太复杂的图片，保存到临时列表中，然后分别移动到[./data/invalid_train/dog]和[./data/invalid_train/cat]，不参与接下来的训练。"
   ]
  },
  {
   "cell_type": "code",
   "execution_count": 3,
   "metadata": {},
   "outputs": [],
   "source": [
    "invalidDogImgs = [\n",
    "    'dog.5604.jpg', 'dog.8736.jpg', 'dog.2422.jpg', 'dog.12376.jpg', 'dog.9517.jpg',\n",
    "    'dog.10237.jpg', 'dog.10801.jpg', 'dog.2614.jpg', 'dog.10161.jpg', 'dog.1773.jpg'\n",
    "]\n",
    "\n",
    "invalidCatImgs = [\n",
    "    'cat.2893.jpg', 'cat.6345.jpg',  'cat.9596.jpg', 'cat.2520.jpg', 'cat.8087.jpg', \n",
    "    'cat.12326.jpg', 'cat.6442.jpg', 'cat.8921.jpg', 'cat.10536.jpg', 'cat.10700.jpg', \n",
    "    'cat.7377.jpg', 'cat.5974.jpg', 'cat.4338.jpg', 'cat.2663.jpg', 'cat.11565.jpg', \n",
    "    'cat.2939.jpg', 'cat.5351.jpg', 'cat.10712.jpg', 'cat.5418.jpg', 'cat.7968.jpg', \n",
    "    'cat.372.jpg', 'cat.10270.jpg', 'cat.3672.jpg', 'cat.2457.jpg', 'cat.11184.jpg', \n",
    "    'cat.12272.jpg', 'cat.7564.jpg', 'cat.10636.jpg', 'cat.6699.jpg', 'cat.8456.jpg', \n",
    "    'cat.9090.jpg', 'cat.2337.jpg', 'cat.2817.jpg', 'cat.9171.jpg', 'cat.11297.jpg', \n",
    "    'cat.4308.jpg', 'cat.2150.jpg', 'cat.12493.jpg'\n",
    "]\n",
    "        \n",
    "def move_invalid_imgs(invalidImgs, srcPath, destPathPre, subPath):\n",
    "    if not isdir(destPathPre):\n",
    "        os.mkdir(destPathPre)\n",
    "    destPath = destPathPre + subPath\n",
    "    if not isdir(destPath):\n",
    "        os.mkdir(destPath)\n",
    "    for fileItem in invalidImgs:\n",
    "        if isfile(srcPath + '/' + fileItem):\n",
    "            os.rename(srcPath + '/' + fileItem, destPath + '/' + fileItem)\n",
    "            \n",
    "invalidDestPath = dataset_folder_path + '/invalid_train'\n",
    "move_invalid_imgs(invalidDogImgs, destPathDog, invalidDestPath, '/dog')\n",
    "move_invalid_imgs(invalidCatImgs, destPathCat, invalidDestPath, '/cat')"
   ]
  },
  {
   "cell_type": "markdown",
   "metadata": {},
   "source": [
    "## 探索数据\n",
    "\n",
    "对数据集进行探索，并可视化相应信息。"
   ]
  },
  {
   "cell_type": "markdown",
   "metadata": {},
   "source": [
    "### 分别展示训练集各类别的异常图片数量/正常图片数量分布比例"
   ]
  },
  {
   "cell_type": "code",
   "execution_count": 5,
   "metadata": {},
   "outputs": [
    {
     "data": {
      "image/png": "[encoded data removed]",
      "text/plain": [
       "<Figure size 432x288 with 1 Axes>"
      ]
     },
     "metadata": {},
     "output_type": "display_data"
    },
    {
     "name": "stdout",
     "output_type": "stream",
     "text": [
      "上图为狗的异常图片数量、正常图片数量分布比例（总共有12491张图片）\n",
      "\n"
     ]
    },
    {
     "data": {
      "image/png": "[encoded data removed]",
      "text/plain": [
       "<Figure size 432x288 with 1 Axes>"
      ]
     },
     "metadata": {},
     "output_type": "display_data"
    },
    {
     "name": "stdout",
     "output_type": "stream",
     "text": [
      "上图为猫的异常图片数量、正常图片数量分布比例（总共有12462张图片）\n"
     ]
    }
   ],
   "source": [
    "import matplotlib.pyplot as plt\n",
    "\n",
    "def show_proportion(invalidImgsCount, totalImgsCount, title):\n",
    "    invalidPercent = invalidImgsCount / totalImgsCount * 100 \n",
    "    validPercent = (totalImgsCount - invalidImgsCount) / totalImgsCount * 100 \n",
    "    \n",
    "    labels = 'invalid','valid'\n",
    "    sizes = [invalidPercent, validPercent]\n",
    "    explode = (0.1, 0) #0.1表示将Hogs那一块凸显出来\n",
    "    plt.pie(sizes,explode=explode,labels=labels,autopct='%1.1f%%',shadow=False,startangle=90) #startangle表示饼图的起始角度\n",
    "    plt.axis('equal')  #加入这行代码即可！\n",
    "    plt.title(title)\n",
    "    plt.show()\n",
    "\n",
    "show_proportion(len(invalidDogImgs), totalDogImgCount, 'num of dog image : ' + str(totalDogImgCount))\n",
    "print('上图为狗的异常图片数量、正常图片数量分布比例（总共有%s张图片）' % totalDogImgCount)\n",
    "print()\n",
    "show_proportion(len(invalidCatImgs), totalCatImgCount, 'num of cat image : ' + str(totalCatImgCount))\n",
    "print('上图为猫的异常图片数量、正常图片数量分布比例（总共有%s张图片）' % totalCatImgCount)"
   ]
  },
  {
   "cell_type": "markdown",
   "metadata": {},
   "source": [
    "### 展示训练集图片长度-宽度分布散点图"
   ]
  },
  {
   "cell_type": "code",
   "execution_count": 12,
   "metadata": {},
   "outputs": [
    {
     "name": "stdout",
     "output_type": "stream",
     "text": [
      "12491\n",
      "24953\n"
     ]
    }
   ],
   "source": [
    "# 先获取所有正常图片的尺寸\n",
    "import cv2\n",
    "\n",
    "def get_shape(imageDirPath):\n",
    "    shape_list = []\n",
    "    for item in os.listdir(imageDirPath):\n",
    "        img_path = imageDirPath + '/' + item\n",
    "        if (not isfile(img_path)):\n",
    "            break\n",
    "        img = cv2.imread(img_path)\n",
    "        shape_list.append([img.shape[0],img.shape[1]])  #shape[0] is height, shape[1] is width \n",
    "    return (shape_list)\n",
    "\n",
    "myShapeList = []\n",
    "myShapeList.extend(get_shape(destPathDog))\n",
    "print(len(myShapeList))\n",
    "myShapeList.extend(get_shape(destPathCat))\n",
    "print(len(myShapeList))"
   ]
  },
  {
   "cell_type": "code",
   "execution_count": 11,
   "metadata": {},
   "outputs": [
    {
     "name": "stdout",
     "output_type": "stream",
     "text": [
      "(375, 499, 3)\n"
     ]
    }
   ],
   "source": [
    "imgwww = cv2.imread(destPathDog + \"/dog.0.jpg\")\n",
    "print(imgwww.shape)"
   ]
  },
  {
   "cell_type": "code",
   "execution_count": 16,
   "metadata": {},
   "outputs": [
    {
     "data": {
      "image/png": "[encoded data removed]",
      "text/plain": [
       "<Figure size 432x288 with 1 Axes>"
      ]
     },
     "metadata": {},
     "output_type": "display_data"
    }
   ],
   "source": [
    "# 绘制图片尺寸的散点分布图\n",
    "\n",
    "import matplotlib.pyplot as plt\n",
    "\n",
    "x_index = [i[1] for i in myShapeList]  #shape[1] is width \n",
    "y_index = [i[0] for i in myShapeList]  #shape[0] is height\n",
    "\n",
    "plt.scatter(x_index,y_index)\n",
    "plt.xlabel('width')\n",
    "plt.ylabel('height')\n",
    "plt.plot(x_index,y_index,'go')\n",
    "plt.show()"
   ]
  },
  {
   "cell_type": "code",
   "execution_count": null,
   "metadata": {},
   "outputs": [],
   "source": []
  }
 ],
 "metadata": {
  "kernelspec": {
   "display_name": "Python 3",
   "language": "python",
   "name": "python3"
  },
  "language_info": {
   "codemirror_mode": {
    "name": "ipython",
    "version": 3
   },
   "file_extension": ".py",
   "mimetype": "text/x-python",
   "name": "python",
   "nbconvert_exporter": "python",
   "pygments_lexer": "ipython3",
   "version": "3.6.5"
  }
 },
 "nbformat": 4,
 "nbformat_minor": 1
}
